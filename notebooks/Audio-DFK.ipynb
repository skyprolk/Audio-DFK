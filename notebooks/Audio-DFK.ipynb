{
  "cells": [
    {
      "cell_type": "markdown",
      "metadata": {
        "colab_type": "text",
        "id": "view-in-github"
      },
      "source": [
        "<a href=\"https://colab.research.google.com/github/skyprolk/Audio-DFK/blob/main/notebooks/Audio-DFK.ipynb\" target=\"_parent\"><img src=\"https://colab.research.google.com/assets/colab-badge.svg\" alt=\"Open In Colab\"/></a>"
      ]
    },
    {
      "cell_type": "code",
      "execution_count": null,
      "metadata": {
        "id": "h2hmNnKDlWvM"
      },
      "outputs": [],
      "source": [
        "!git clone https://github.com/skyprolk/Audio-DFK.git\n",
        "%cd Audio-DFK\n",
        "!pip install -r old_setup_files/requirements-pip.txt\n",
        "!pip install encodec rich-argparse librosa pydub devtools\n",
        "!python bark_webui.py --share"
      ]
    }
  ],
  "metadata": {
    "accelerator": "GPU",
    "colab": {
      "authorship_tag": "ABX9TyPwSM/Piw4ecN7LXoGsFpPu",
      "gpuType": "T4",
      "include_colab_link": true,
      "provenance": []
    },
    "kernelspec": {
      "display_name": "Python 3",
      "name": "python3"
    },
    "language_info": {
      "name": "python"
    }
  },
  "nbformat": 4,
  "nbformat_minor": 0
}
